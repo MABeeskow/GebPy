{
 "cells": [
  {
   "cell_type": "code",
   "execution_count": 122,
   "id": "c6d9fe9d",
   "metadata": {},
   "outputs": [],
   "source": [
    "import os, sys\n",
    "currentdir = os.path.dirname(os.path.realpath(\"Tutorial_Rocks_Inversion.ipynb\"))\n",
    "parentdir = os.path.dirname(currentdir)\n",
    "sys.path.append(parentdir)"
   ]
  },
  {
   "cell_type": "code",
   "execution_count": 137,
   "id": "58373f1e",
   "metadata": {},
   "outputs": [],
   "source": [
    "# MODULES\n",
    "import numpy as np\n",
    "import pandas as pd\n",
    "import matplotlib.pyplot as plt\n",
    "from modules import sequences, minerals, fluids\n",
    "from modules.sequences import SedimentaryBasin\n",
    "from modules import geophysics\n",
    "from pandas.plotting import scatter_matrix\n",
    "import seaborn as sn\n",
    "from scipy.optimize import nnls, minimize\n",
    "import scipy.optimize as opt"
   ]
  },
  {
   "cell_type": "code",
   "execution_count": 124,
   "id": "c735b4a8",
   "metadata": {},
   "outputs": [
    {
     "name": "stdout",
     "output_type": "stream",
     "text": [
      "Sample 1 : [2120.0, 2799.17, 1550.48, 51.399, 1.851]\n",
      "Sample 2 : [2100.0, 2754.81, 1513.01, 72.222, 1.969]\n",
      "Sample 3 : [2155.0, 2845.58, 1597.05, 3.81, 1.663]\n",
      "Sample 4 : [2167.0, 2871.25, 1620.89, 31.504, 1.755]\n",
      "Sample 5 : [2127.0, 2877.77, 1585.48, 4.688, 1.64]\n",
      "Sample 6 : [2065.0, 2785.34, 1488.84, 48.207, 1.921]\n",
      "Sample 7 : [2157.0, 2896.2, 1608.3, 23.881, 1.906]\n",
      "Sample 8 : [2108.0, 2845.79, 1548.09, 1.553, 1.743]\n",
      "Sample 9 : [2060.0, 2766.08, 1482.31, 33.28, 1.763]\n",
      "Sample 10 : [2072.0, 2765.37, 1484.81, 3.833, 1.748]\n"
     ]
    }
   ],
   "source": [
    "# Test feldspathic sandstone generation within SedimentaryBasin class\n",
    "data = SedimentaryBasin()\n",
    "data_sandstone = data.create_sandstone(thickness=10, keyword=\"feldspathic\")\n",
    "\n",
    "data = sequences.DataProcessing(dataset=data_sandstone)\n",
    "density_bulk = data.extract_densities(type=\"rock\", keyword=\"bulk\")\n",
    "vP = data.extract_seismic_velocities(type=\"rock\", keyword=\"vP\")\n",
    "vS = data.extract_seismic_velocities(type=\"rock\", keyword=\"vS\")\n",
    "gr = data.extract_gamma_ray(type=\"rock\")\n",
    "pe = data.extract_photoelectricity(type=\"rock\")\n",
    "\n",
    "d = []\n",
    "for i in range(len(data_sandstone)):\n",
    "    d.append([density_bulk[i]*1000, vP[i], vS[i], gr[i], pe[i]])\n",
    "    print(\"Sample\", i+1, \":\", d[i])\n",
    "d = np.array(d)"
   ]
  },
  {
   "cell_type": "code",
   "execution_count": 125,
   "id": "f88bbc02",
   "metadata": {},
   "outputs": [
    {
     "name": "stdout",
     "output_type": "stream",
     "text": [
      "[[2648.60 2596.70 2710.80 1000.00]\n",
      " [5753.20 8441.60 8750.50 1449.10]\n",
      " [4075.90 5030.30 5162.90 0.00]\n",
      " [0.00 102.21 0.00 0.00]\n",
      " [1.65 2.04 2.46 0.36]]\n",
      "[0.90 0.50 -0.90 0.87]\n"
     ]
    }
   ],
   "source": [
    "data_qz = minerals.oxides.quartz(\"\")\n",
    "data_kfs = minerals.feldspars().alkalifeldspar(keyword=\"Kfs\")\n",
    "data_pl = minerals.feldspars().plagioclase(keyword=\"Pl\")\n",
    "water = fluids.Water.water(\"\")\n",
    "\n",
    "properties_rho = [data_qz[2], data_kfs[2], data_pl[2], water[2]]\n",
    "properties_vP = [data_qz[4][0], data_kfs[4][0], data_pl[4][0], water[4][0]]\n",
    "properties_vS = [data_qz[4][1], data_kfs[4][1], data_pl[4][1], water[4][1]]\n",
    "properties_GR = [data_qz[5][0], data_kfs[5][0], data_pl[5][0], water[5][0]]\n",
    "properties_PE = [data_qz[5][1], data_kfs[5][1], data_pl[5][1], water[5][1]]\n",
    "\n",
    "G = np.array([properties_rho, properties_vP, properties_vS, properties_GR, properties_PE])\n",
    "print(G)\n",
    "\n",
    "G_T = np.transpose(G)\n",
    "G_TG = G_T@G\n",
    "GTG_inv = np.linalg.inv(G_TG)\n",
    "m = GTG_inv@G_T@d[0]\n",
    "print(m)"
   ]
  },
  {
   "cell_type": "code",
   "execution_count": 131,
   "id": "f762d257",
   "metadata": {},
   "outputs": [
    {
     "name": "stdout",
     "output_type": "stream",
     "text": [
      "Model estimation: [0.90 0.50 -0.90 0.87] 1.3719723429375024\n",
      "Check:\n",
      "Density: 2120.0\n",
      "vP: 2799.17\n",
      "vS: 1550.48\n",
      "GR: 51.39\n",
      "PE: 0.61\n",
      "Reality:\n",
      "[2120.00 2799.17 1550.48 51.40 1.85]\n"
     ]
    }
   ],
   "source": [
    "m = np.linalg.lstsq(a=G, b=d[0], rcond=None)[0]\n",
    "print(\"Model estimation:\", m, m.sum())\n",
    "print(\"Check:\")\n",
    "print(\"Density:\", round(np.dot(m,properties_rho), 2))\n",
    "print(\"vP:\", round(np.dot(m,properties_vP), 2))\n",
    "print(\"vS:\", round(np.dot(m,properties_vS), 2))\n",
    "print(\"GR:\", round(np.dot(m,properties_GR), 2))\n",
    "print(\"PE:\", round(np.dot(m,properties_PE), 2))\n",
    "print(\"Reality:\")\n",
    "np.set_printoptions(formatter={'float': lambda x: \"{0:0.2f}\".format(x)})\n",
    "print(d[0])"
   ]
  },
  {
   "cell_type": "code",
   "execution_count": 146,
   "id": "63404907",
   "metadata": {},
   "outputs": [
    {
     "name": "stdout",
     "output_type": "stream",
     "text": [
      "Model estimation: [0.35 0.00 0.00 0.77] 1.1131684897948686\n",
      "Check:\n",
      "Density: 1682.99\n",
      "vP: 3100.75\n",
      "vS: 1408.78\n",
      "GR: 0.0\n",
      "PE: 0.85\n",
      "Reality:\n",
      "[2120.00 2799.17 1550.48 51.40 1.85]\n"
     ]
    },
    {
     "ename": "AttributeError",
     "evalue": "m",
     "output_type": "error",
     "traceback": [
      "\u001b[0;31m---------------------------------------------------------------------------\u001b[0m",
      "\u001b[0;31mKeyError\u001b[0m                                  Traceback (most recent call last)",
      "\u001b[0;32m~/anaconda3/lib/python3.8/site-packages/scipy/optimize/optimize.py\u001b[0m in \u001b[0;36m__getattr__\u001b[0;34m(self, name)\u001b[0m\n\u001b[1;32m    121\u001b[0m         \u001b[0;32mtry\u001b[0m\u001b[0;34m:\u001b[0m\u001b[0;34m\u001b[0m\u001b[0;34m\u001b[0m\u001b[0m\n\u001b[0;32m--> 122\u001b[0;31m             \u001b[0;32mreturn\u001b[0m \u001b[0mself\u001b[0m\u001b[0;34m[\u001b[0m\u001b[0mname\u001b[0m\u001b[0;34m]\u001b[0m\u001b[0;34m\u001b[0m\u001b[0;34m\u001b[0m\u001b[0m\n\u001b[0m\u001b[1;32m    123\u001b[0m         \u001b[0;32mexcept\u001b[0m \u001b[0mKeyError\u001b[0m \u001b[0;32mas\u001b[0m \u001b[0me\u001b[0m\u001b[0;34m:\u001b[0m\u001b[0;34m\u001b[0m\u001b[0;34m\u001b[0m\u001b[0m\n",
      "\u001b[0;31mKeyError\u001b[0m: 'm'",
      "\nThe above exception was the direct cause of the following exception:\n",
      "\u001b[0;31mAttributeError\u001b[0m                            Traceback (most recent call last)",
      "\u001b[0;32m<ipython-input-146-3d3a023a944f>\u001b[0m in \u001b[0;36m<module>\u001b[0;34m\u001b[0m\n\u001b[1;32m     22\u001b[0m \u001b[0;34m\u001b[0m\u001b[0m\n\u001b[1;32m     23\u001b[0m \u001b[0mminout\u001b[0m \u001b[0;34m=\u001b[0m \u001b[0mminimize\u001b[0m\u001b[0;34m(\u001b[0m\u001b[0mfn\u001b[0m\u001b[0;34m,\u001b[0m \u001b[0mm0\u001b[0m\u001b[0;34m,\u001b[0m \u001b[0margs\u001b[0m\u001b[0;34m=\u001b[0m\u001b[0;34m(\u001b[0m\u001b[0mA\u001b[0m\u001b[0;34m,\u001b[0m \u001b[0mb\u001b[0m\u001b[0;34m)\u001b[0m\u001b[0;34m,\u001b[0m \u001b[0mmethod\u001b[0m\u001b[0;34m=\u001b[0m\u001b[0;34m'SLSQP'\u001b[0m\u001b[0;34m,\u001b[0m \u001b[0mbounds\u001b[0m\u001b[0;34m=\u001b[0m\u001b[0mbounds\u001b[0m\u001b[0;34m,\u001b[0m \u001b[0mconstraints\u001b[0m\u001b[0;34m=\u001b[0m\u001b[0mcons\u001b[0m\u001b[0;34m)\u001b[0m\u001b[0;34m\u001b[0m\u001b[0;34m\u001b[0m\u001b[0m\n\u001b[0;32m---> 24\u001b[0;31m \u001b[0mm\u001b[0m \u001b[0;34m=\u001b[0m \u001b[0mminout\u001b[0m\u001b[0;34m.\u001b[0m\u001b[0mm\u001b[0m\u001b[0;34m\u001b[0m\u001b[0;34m\u001b[0m\u001b[0m\n\u001b[0m\u001b[1;32m     25\u001b[0m \u001b[0;34m\u001b[0m\u001b[0m\n\u001b[1;32m     26\u001b[0m \u001b[0mprint\u001b[0m\u001b[0;34m(\u001b[0m\u001b[0mm\u001b[0m\u001b[0;34m,\u001b[0m \u001b[0mm\u001b[0m\u001b[0;34m.\u001b[0m\u001b[0msum\u001b[0m\u001b[0;34m(\u001b[0m\u001b[0;34m)\u001b[0m\u001b[0;34m,\u001b[0m\u001b[0mfn\u001b[0m\u001b[0;34m(\u001b[0m\u001b[0mm\u001b[0m\u001b[0;34m,\u001b[0m \u001b[0mA\u001b[0m\u001b[0;34m,\u001b[0m \u001b[0mb\u001b[0m\u001b[0;34m)\u001b[0m\u001b[0;34m)\u001b[0m\u001b[0;34m\u001b[0m\u001b[0;34m\u001b[0m\u001b[0m\n",
      "\u001b[0;32m~/anaconda3/lib/python3.8/site-packages/scipy/optimize/optimize.py\u001b[0m in \u001b[0;36m__getattr__\u001b[0;34m(self, name)\u001b[0m\n\u001b[1;32m    122\u001b[0m             \u001b[0;32mreturn\u001b[0m \u001b[0mself\u001b[0m\u001b[0;34m[\u001b[0m\u001b[0mname\u001b[0m\u001b[0;34m]\u001b[0m\u001b[0;34m\u001b[0m\u001b[0;34m\u001b[0m\u001b[0m\n\u001b[1;32m    123\u001b[0m         \u001b[0;32mexcept\u001b[0m \u001b[0mKeyError\u001b[0m \u001b[0;32mas\u001b[0m \u001b[0me\u001b[0m\u001b[0;34m:\u001b[0m\u001b[0;34m\u001b[0m\u001b[0;34m\u001b[0m\u001b[0m\n\u001b[0;32m--> 124\u001b[0;31m             \u001b[0;32mraise\u001b[0m \u001b[0mAttributeError\u001b[0m\u001b[0;34m(\u001b[0m\u001b[0mname\u001b[0m\u001b[0;34m)\u001b[0m \u001b[0;32mfrom\u001b[0m \u001b[0me\u001b[0m\u001b[0;34m\u001b[0m\u001b[0;34m\u001b[0m\u001b[0m\n\u001b[0m\u001b[1;32m    125\u001b[0m \u001b[0;34m\u001b[0m\u001b[0m\n\u001b[1;32m    126\u001b[0m     \u001b[0m__setattr__\u001b[0m \u001b[0;34m=\u001b[0m \u001b[0mdict\u001b[0m\u001b[0;34m.\u001b[0m\u001b[0m__setitem__\u001b[0m\u001b[0;34m\u001b[0m\u001b[0;34m\u001b[0m\u001b[0m\n",
      "\u001b[0;31mAttributeError\u001b[0m: m"
     ]
    }
   ],
   "source": [
    "A = G\n",
    "b = d[0]\n",
    "\n",
    "m0, rnorm = nnls(A, b)\n",
    "print(\"Model estimation:\", m0, m0.sum())\n",
    "print(\"Check:\")\n",
    "print(\"Density:\", round(np.dot(m0,properties_rho), 2))\n",
    "print(\"vP:\", round(np.dot(m0,properties_vP), 2))\n",
    "print(\"vS:\", round(np.dot(m0,properties_vS), 2))\n",
    "print(\"GR:\", round(np.dot(m0,properties_GR), 2))\n",
    "print(\"PE:\", round(np.dot(m0,properties_PE), 2))\n",
    "print(\"Reality:\")\n",
    "np.set_printoptions(formatter={'float': lambda x: \"{0:0.2f}\".format(x)})\n",
    "print(d[0])\n",
    "\n",
    "m = m0\n",
    "def fn(m, A, b):\n",
    "    return np.linalg.norm(A.dot(m) - b)\n",
    "\n",
    "cons = {'type': 'eq', 'fun': lambda m:  np.sum(m)-1}\n",
    "bounds = [[0., 1],[0., 1],[0., 1], [0., 1]]\n",
    "\n",
    "minout = minimize(fn, m0, args=(A, b), method='SLSQP', bounds=bounds, constraints=cons)\n",
    "m = minout.m\n",
    "\n",
    "print(m, m.sum(), fn(m, A, b))"
   ]
  },
  {
   "cell_type": "code",
   "execution_count": 192,
   "id": "ca81166e",
   "metadata": {},
   "outputs": [
    {
     "name": "stdout",
     "output_type": "stream",
     "text": [
      "[0.80 0.00 0.00 0.20] 0.999999817325403 2710.8369823721255\n",
      "\n",
      "Model estimation: [0.80 0.00 0.00 0.20] 0.999999817325403\n",
      "Check:\n",
      "Density: 2318.88 --> 9.38 % difference\n",
      "vP: 4892.38 --> 74.78 % difference\n",
      "vS: 3260.72 --> 110.3 % difference\n",
      "GR: 0.0 --> -100.0 % difference\n",
      "PE: 1.39 --> -24.8 % difference\n",
      "Reality:\n",
      "[2120.00 2799.17 1550.48 51.40 1.85]\n"
     ]
    }
   ],
   "source": [
    "import numpy as np\n",
    "from scipy.optimize import minimize \n",
    "from scipy.optimize import nnls \n",
    "\n",
    "#Define problem\n",
    "A = np.array([[60, 90, 120], \n",
    "              [30, 120, 90]])\n",
    "A = G\n",
    "\n",
    "b = np.array([67.5, 60])\n",
    "b = d[0]\n",
    "\n",
    "#Use nnls to get initial guess\n",
    "x0, rnorm = nnls(A, b)\n",
    "\n",
    "#Define minimisation function\n",
    "def fn(x, A, b):\n",
    "    return np.linalg.norm(A.dot(x) - b)\n",
    "\n",
    "#Define constraints and bounds\n",
    "cons = {'type': 'eq', 'fun': lambda x:  np.sum(x)-1}\n",
    "bounds = [[0.5, 1.0], [0., 0.5], [0., 0.5], [0., 0.2]]\n",
    "\n",
    "#Call minimisation subject to these values\n",
    "minout = minimize(fn, x0, args=(A, b), method=\"SLSQP\", bounds=bounds, constraints=cons)\n",
    "x = minout.x\n",
    "\n",
    "print(x, x.sum(), fn(x,A,b))\n",
    "m0 = x\n",
    "\n",
    "print(\"\")\n",
    "print(\"Model estimation:\", m0, m0.sum())\n",
    "print(\"Check:\")\n",
    "print(\"Density:\", round(np.dot(m0,properties_rho), 2), \"-->\", round((np.dot(m0,properties_rho)/d[0][0]-1)*100, 2), \"% difference\")\n",
    "print(\"vP:\", round(np.dot(m0,properties_vP), 2), \"-->\", round((np.dot(m0,properties_vP)/d[0][1]-1)*100, 2), \"% difference\")\n",
    "print(\"vS:\", round(np.dot(m0,properties_vS), 2), \"-->\", round((np.dot(m0,properties_vS)/d[0][2]-1)*100, 2), \"% difference\")\n",
    "print(\"GR:\", round(np.dot(m0,properties_GR), 2), \"-->\", round((np.dot(m0,properties_GR)/d[0][3]-1)*100, 2), \"% difference\")\n",
    "print(\"PE:\", round(np.dot(m0,properties_PE), 2), \"-->\", round((np.dot(m0,properties_PE)/d[0][4]-1)*100, 2), \"% difference\")\n",
    "print(\"Reality:\")\n",
    "np.set_printoptions(formatter={'float': lambda x: \"{0:0.2f}\".format(x)})\n",
    "print(d[0])"
   ]
  },
  {
   "cell_type": "code",
   "execution_count": null,
   "id": "6a6423e8",
   "metadata": {},
   "outputs": [],
   "source": []
  }
 ],
 "metadata": {
  "kernelspec": {
   "display_name": "Python 3",
   "language": "python",
   "name": "python3"
  },
  "language_info": {
   "codemirror_mode": {
    "name": "ipython",
    "version": 3
   },
   "file_extension": ".py",
   "mimetype": "text/x-python",
   "name": "python",
   "nbconvert_exporter": "python",
   "pygments_lexer": "ipython3",
   "version": "3.8.8"
  }
 },
 "nbformat": 4,
 "nbformat_minor": 5
}
